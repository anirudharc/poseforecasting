{
 "cells": [
  {
   "cell_type": "code",
   "execution_count": 1,
   "metadata": {},
   "outputs": [],
   "source": [
    "%load_ext autoreload\n",
    "%autoreload 2"
   ]
  },
  {
   "cell_type": "code",
   "execution_count": null,
   "metadata": {},
   "outputs": [],
   "source": [
    "import torch\n",
    "import pose.models.seqHourglass as models"
   ]
  },
  {
   "cell_type": "code",
   "execution_count": null,
   "metadata": {},
   "outputs": [],
   "source": [
    "model = models.ConvLSTMCell(100, 200).cuda(1)"
   ]
  },
  {
   "cell_type": "code",
   "execution_count": null,
   "metadata": {},
   "outputs": [],
   "source": [
    "inputs = torch.rand(1,100, 20, 30).cuda(1)\n",
    "h = torch.rand(1,200, 20, 30).cuda(1)"
   ]
  },
  {
   "cell_type": "code",
   "execution_count": null,
   "metadata": {},
   "outputs": [],
   "source": [
    "outputs = model(inputs, h)"
   ]
  },
  {
   "cell_type": "code",
   "execution_count": null,
   "metadata": {},
   "outputs": [],
   "source": [
    "outputs[1].shape"
   ]
  },
  {
   "cell_type": "code",
   "execution_count": null,
   "metadata": {},
   "outputs": [],
   "source": [
    "model "
   ]
  },
  {
   "cell_type": "code",
   "execution_count": null,
   "metadata": {},
   "outputs": [],
   "source": []
  },
  {
   "cell_type": "code",
   "execution_count": null,
   "metadata": {},
   "outputs": [],
   "source": []
  },
  {
   "cell_type": "code",
   "execution_count": null,
   "metadata": {},
   "outputs": [],
   "source": [
    "model = models.Bottleneck(20, 10)"
   ]
  },
  {
   "cell_type": "code",
   "execution_count": null,
   "metadata": {},
   "outputs": [],
   "source": [
    "inputs = torch.rand(1,20, 20, 30)"
   ]
  },
  {
   "cell_type": "code",
   "execution_count": null,
   "metadata": {},
   "outputs": [],
   "source": [
    "model(inputs).shape"
   ]
  },
  {
   "cell_type": "code",
   "execution_count": null,
   "metadata": {},
   "outputs": [],
   "source": [
    "assert 0, 'hi'"
   ]
  },
  {
   "cell_type": "code",
   "execution_count": null,
   "metadata": {},
   "outputs": [],
   "source": [
    "torch.stack([torch.rand(2,2,2) for _ in range(10)], dim=-1).shape"
   ]
  },
  {
   "cell_type": "code",
   "execution_count": null,
   "metadata": {},
   "outputs": [],
   "source": [
    "model = models.Conv2dLSTM(10, 20, 2)"
   ]
  },
  {
   "cell_type": "code",
   "execution_count": null,
   "metadata": {},
   "outputs": [],
   "source": [
    "x, h, c = torch.rand(2, 16, 20, 32, 3), None, None"
   ]
  },
  {
   "cell_type": "code",
   "execution_count": null,
   "metadata": {},
   "outputs": [],
   "source": [
    "output, (hn, cn) = model(x, (h,c))"
   ]
  },
  {
   "cell_type": "code",
   "execution_count": null,
   "metadata": {},
   "outputs": [],
   "source": [
    "cn.shape"
   ]
  },
  {
   "cell_type": "code",
   "execution_count": null,
   "metadata": {},
   "outputs": [],
   "source": [
    "x, h, c = torch.rand(2, 3, 128, 128, 3), None, None"
   ]
  },
  {
   "cell_type": "code",
   "execution_count": null,
   "metadata": {},
   "outputs": [],
   "source": [
    "model = models.Hourglass(models.Bottleneck, 1, 8, 5, 2)"
   ]
  },
  {
   "cell_type": "code",
   "execution_count": null,
   "metadata": {},
   "outputs": [],
   "source": [
    "x.shape"
   ]
  },
  {
   "cell_type": "code",
   "execution_count": null,
   "metadata": {},
   "outputs": [],
   "source": [
    "model(x).shape"
   ]
  },
  {
   "cell_type": "code",
   "execution_count": null,
   "metadata": {},
   "outputs": [],
   "source": [
    "import pdb"
   ]
  },
  {
   "cell_type": "code",
   "execution_count": null,
   "metadata": {},
   "outputs": [],
   "source": [
    "model = models.hg(num_stacks=1, num_blocks=1, num_classes=16, rnn_layers=1)"
   ]
  },
  {
   "cell_type": "code",
   "execution_count": null,
   "metadata": {},
   "outputs": [],
   "source": [
    "checkpoint = torch.load('checkpoint/mpii/hg_s1_b1/checkpoint.pth.tar')"
   ]
  },
  {
   "cell_type": "code",
   "execution_count": null,
   "metadata": {},
   "outputs": [],
   "source": [
    "checkpoint_state_dict = dict(checkpoint['state_dict'])"
   ]
  },
  {
   "cell_type": "code",
   "execution_count": null,
   "metadata": {},
   "outputs": [],
   "source": [
    "checkpoint_state_dict_new = {}\n",
    "keys = checkpoint_state_dict.keys()"
   ]
  },
  {
   "cell_type": "code",
   "execution_count": null,
   "metadata": {},
   "outputs": [],
   "source": [
    "for key in keys:\n",
    "    new_key = '.'.join(key.split('.')[1:])\n",
    "    checkpoint_state_dict_new[new_key] = checkpoint_state_dict[key]"
   ]
  },
  {
   "cell_type": "code",
   "execution_count": null,
   "metadata": {},
   "outputs": [],
   "source": [
    "checkpoint_state_dict_new_ = model.state_dict()"
   ]
  },
  {
   "cell_type": "code",
   "execution_count": null,
   "metadata": {},
   "outputs": [],
   "source": [
    "checkpoint_state_dict_new_.update(checkpoint_state_dict_new)"
   ]
  },
  {
   "cell_type": "code",
   "execution_count": null,
   "metadata": {},
   "outputs": [],
   "source": [
    "model.load_state_dict(checkpoint_state_dict_new_)"
   ]
  },
  {
   "cell_type": "code",
   "execution_count": null,
   "metadata": {},
   "outputs": [],
   "source": [
    "from pycasper.name import Name"
   ]
  },
  {
   "cell_type": "code",
   "execution_count": null,
   "metadata": {},
   "outputs": [],
   "source": []
  },
  {
   "cell_type": "code",
   "execution_count": null,
   "metadata": {},
   "outputs": [],
   "source": [
    "model.state_dict()"
   ]
  },
  {
   "cell_type": "code",
   "execution_count": null,
   "metadata": {},
   "outputs": [],
   "source": [
    "import cv2"
   ]
  },
  {
   "cell_type": "code",
   "execution_count": 2,
   "metadata": {},
   "outputs": [],
   "source": [
    "from pathlib import Path\n",
    "from dataloader.ucf_dataloader import ucf_dataloader"
   ]
  },
  {
   "cell_type": "code",
   "execution_count": 3,
   "metadata": {},
   "outputs": [],
   "source": [
    "rgb_path = 'dataset/UCF101/jpegs_256/'\n",
    "pose_path = 'dataset/UCF101/openpose_output/'\n",
    "ucf_list = 'dataloader/UCF_list/'\n",
    "video_path = 'dataloader/'\n",
    "ucf_split = 'dataloader/'\n",
    "heatmap_dir = 'preprocess/heatmaps/'"
   ]
  },
  {
   "cell_type": "code",
   "execution_count": 4,
   "metadata": {},
   "outputs": [
    {
     "name": "stdout",
     "output_type": "stream",
     "text": [
      "Loading existing video dictionary...\n",
      "Filtered videos retained:  2909\n",
      "Train 1745, Val 581, Test 581\n"
     ]
    }
   ],
   "source": [
    "data = ucf_dataloader(1, 0, rgb_path, pose_path, video_path, heatmap_dir, ucf_list, ucf_split)"
   ]
  },
  {
   "cell_type": "code",
   "execution_count": 12,
   "metadata": {},
   "outputs": [
    {
     "name": "stdout",
     "output_type": "stream",
     "text": [
      "==> Training data : 1745 frames\n",
      "==> Validation data : 581 frames\n",
      "==> Test data : 581 frames\n"
     ]
    },
    {
     "name": "stderr",
     "output_type": "stream",
     "text": [
      "/home/chahuja/bin/conda3/envs/torch/lib/python3.6/site-packages/torchvision-0.2.1-py3.6.egg/torchvision/transforms/transforms.py:188: UserWarning: The use of the transforms.Scale transform is deprecated, please use transforms.Resize instead.\n"
     ]
    }
   ],
   "source": [
    "train, dev, test = data.run()"
   ]
  },
  {
   "cell_type": "code",
   "execution_count": 18,
   "metadata": {},
   "outputs": [
    {
     "name": "stdout",
     "output_type": "stream",
     "text": [
      "1min 54s ± 17 s per loop (mean ± std. dev. of 7 runs, 1 loop each)\n"
     ]
    }
   ],
   "source": [
    "%%timeit\n",
    "count = 0\n",
    "for ab in test:\n",
    "    count+=1"
   ]
  },
  {
   "cell_type": "code",
   "execution_count": 31,
   "metadata": {},
   "outputs": [
    {
     "data": {
      "text/plain": [
       "dict_keys(['image', 'heatmaps', 'occlusion', 'frameId'])"
      ]
     },
     "execution_count": 31,
     "metadata": {},
     "output_type": "execute_result"
    }
   ],
   "source": [
    "ab[0].keys()"
   ]
  },
  {
   "cell_type": "code",
   "execution_count": 34,
   "metadata": {},
   "outputs": [
    {
     "data": {
      "text/plain": [
       "[tensor([1]),\n",
       " tensor([1]),\n",
       " tensor([1]),\n",
       " tensor([1]),\n",
       " tensor([1]),\n",
       " tensor([1]),\n",
       " tensor([1]),\n",
       " tensor([1]),\n",
       " tensor([1]),\n",
       " tensor([1]),\n",
       " tensor([1]),\n",
       " tensor([1]),\n",
       " tensor([1]),\n",
       " tensor([1]),\n",
       " tensor([1]),\n",
       " tensor([1]),\n",
       " tensor([0]),\n",
       " tensor([1]),\n",
       " tensor([1]),\n",
       " tensor([1]),\n",
       " tensor([1]),\n",
       " tensor([1]),\n",
       " tensor([1]),\n",
       " tensor([1]),\n",
       " tensor([1]),\n",
       " tensor([1]),\n",
       " tensor([1]),\n",
       " tensor([1]),\n",
       " tensor([1]),\n",
       " tensor([1]),\n",
       " tensor([1]),\n",
       " tensor([1]),\n",
       " tensor([1]),\n",
       " tensor([1]),\n",
       " tensor([1]),\n",
       " tensor([1]),\n",
       " tensor([1]),\n",
       " tensor([1]),\n",
       " tensor([1]),\n",
       " tensor([1]),\n",
       " tensor([1]),\n",
       " tensor([1]),\n",
       " tensor([1]),\n",
       " tensor([1]),\n",
       " tensor([1]),\n",
       " tensor([1]),\n",
       " tensor([1]),\n",
       " tensor([1]),\n",
       " tensor([1]),\n",
       " tensor([1]),\n",
       " tensor([1]),\n",
       " tensor([1]),\n",
       " tensor([1]),\n",
       " tensor([1]),\n",
       " tensor([1]),\n",
       " tensor([1]),\n",
       " tensor([1]),\n",
       " tensor([1]),\n",
       " tensor([1]),\n",
       " tensor([0]),\n",
       " tensor([1]),\n",
       " tensor([1]),\n",
       " tensor([1]),\n",
       " tensor([1]),\n",
       " tensor([1]),\n",
       " tensor([1]),\n",
       " tensor([1]),\n",
       " tensor([1]),\n",
       " tensor([1]),\n",
       " tensor([1]),\n",
       " tensor([1]),\n",
       " tensor([1]),\n",
       " tensor([1]),\n",
       " tensor([1]),\n",
       " tensor([1]),\n",
       " tensor([1]),\n",
       " tensor([1]),\n",
       " tensor([1]),\n",
       " tensor([1]),\n",
       " tensor([1]),\n",
       " tensor([0]),\n",
       " tensor([0]),\n",
       " tensor([1]),\n",
       " tensor([1]),\n",
       " tensor([1]),\n",
       " tensor([1]),\n",
       " tensor([1]),\n",
       " tensor([1]),\n",
       " tensor([1]),\n",
       " tensor([1]),\n",
       " tensor([1]),\n",
       " tensor([1]),\n",
       " tensor([1]),\n",
       " tensor([1]),\n",
       " tensor([1]),\n",
       " tensor([1]),\n",
       " tensor([1]),\n",
       " tensor([1]),\n",
       " tensor([1]),\n",
       " tensor([1]),\n",
       " tensor([1]),\n",
       " tensor([1]),\n",
       " tensor([1]),\n",
       " tensor([1]),\n",
       " tensor([1]),\n",
       " tensor([1]),\n",
       " tensor([1]),\n",
       " tensor([0]),\n",
       " tensor([1]),\n",
       " tensor([1]),\n",
       " tensor([1]),\n",
       " tensor([1]),\n",
       " tensor([1]),\n",
       " tensor([1]),\n",
       " tensor([1]),\n",
       " tensor([1]),\n",
       " tensor([1]),\n",
       " tensor([1]),\n",
       " tensor([1]),\n",
       " tensor([1]),\n",
       " tensor([0]),\n",
       " tensor([1]),\n",
       " tensor([1]),\n",
       " tensor([1]),\n",
       " tensor([1]),\n",
       " tensor([1]),\n",
       " tensor([1]),\n",
       " tensor([1]),\n",
       " tensor([0]),\n",
       " tensor([0]),\n",
       " tensor([0]),\n",
       " tensor([1]),\n",
       " tensor([1]),\n",
       " tensor([0]),\n",
       " tensor([1]),\n",
       " tensor([1]),\n",
       " tensor([1]),\n",
       " tensor([1]),\n",
       " tensor([1]),\n",
       " tensor([0]),\n",
       " tensor([1]),\n",
       " tensor([1]),\n",
       " tensor([1]),\n",
       " tensor([1]),\n",
       " tensor([1]),\n",
       " tensor([1]),\n",
       " tensor([1]),\n",
       " tensor([1]),\n",
       " tensor([1]),\n",
       " tensor([1]),\n",
       " tensor([1]),\n",
       " tensor([1]),\n",
       " tensor([1]),\n",
       " tensor([1]),\n",
       " tensor([1]),\n",
       " tensor([1]),\n",
       " tensor([1]),\n",
       " tensor([1]),\n",
       " tensor([1]),\n",
       " tensor([1]),\n",
       " tensor([1]),\n",
       " tensor([1]),\n",
       " tensor([1]),\n",
       " tensor([1]),\n",
       " tensor([1]),\n",
       " tensor([1]),\n",
       " tensor([1]),\n",
       " tensor([1]),\n",
       " tensor([1]),\n",
       " tensor([1]),\n",
       " tensor([1]),\n",
       " tensor([1]),\n",
       " tensor([0]),\n",
       " tensor([1]),\n",
       " tensor([0]),\n",
       " tensor([1]),\n",
       " tensor([1]),\n",
       " tensor([0]),\n",
       " tensor([1]),\n",
       " tensor([1]),\n",
       " tensor([1]),\n",
       " tensor([1]),\n",
       " tensor([1]),\n",
       " tensor([1]),\n",
       " tensor([1]),\n",
       " tensor([1]),\n",
       " tensor([0]),\n",
       " tensor([0]),\n",
       " tensor([0]),\n",
       " tensor([1]),\n",
       " tensor([1]),\n",
       " tensor([1]),\n",
       " tensor([0]),\n",
       " tensor([1]),\n",
       " tensor([1]),\n",
       " tensor([1]),\n",
       " tensor([1]),\n",
       " tensor([1]),\n",
       " tensor([1]),\n",
       " tensor([1]),\n",
       " tensor([1]),\n",
       " tensor([1]),\n",
       " tensor([1]),\n",
       " tensor([1]),\n",
       " tensor([1]),\n",
       " tensor([0]),\n",
       " tensor([1]),\n",
       " tensor([1]),\n",
       " tensor([1]),\n",
       " tensor([1]),\n",
       " tensor([1]),\n",
       " tensor([0]),\n",
       " tensor([1]),\n",
       " tensor([1]),\n",
       " tensor([1]),\n",
       " tensor([1]),\n",
       " tensor([1]),\n",
       " tensor([1]),\n",
       " tensor([0]),\n",
       " tensor([0]),\n",
       " tensor([0]),\n",
       " tensor([1]),\n",
       " tensor([0]),\n",
       " tensor([1]),\n",
       " tensor([1]),\n",
       " tensor([1]),\n",
       " tensor([1]),\n",
       " tensor([1]),\n",
       " tensor([1]),\n",
       " tensor([1]),\n",
       " tensor([1]),\n",
       " tensor([1]),\n",
       " tensor([1]),\n",
       " tensor([1]),\n",
       " tensor([1]),\n",
       " tensor([1]),\n",
       " tensor([1]),\n",
       " tensor([1]),\n",
       " tensor([1]),\n",
       " tensor([1]),\n",
       " tensor([1]),\n",
       " tensor([1]),\n",
       " tensor([1]),\n",
       " tensor([1]),\n",
       " tensor([1]),\n",
       " tensor([1]),\n",
       " tensor([1]),\n",
       " tensor([1]),\n",
       " tensor([1]),\n",
       " tensor([1]),\n",
       " tensor([1]),\n",
       " tensor([1]),\n",
       " tensor([1]),\n",
       " tensor([1]),\n",
       " tensor([1]),\n",
       " tensor([1]),\n",
       " tensor([1]),\n",
       " tensor([1]),\n",
       " tensor([1]),\n",
       " tensor([0]),\n",
       " tensor([0]),\n",
       " tensor([1]),\n",
       " tensor([1]),\n",
       " tensor([0]),\n",
       " tensor([1]),\n",
       " tensor([0]),\n",
       " tensor([0]),\n",
       " tensor([1]),\n",
       " tensor([1]),\n",
       " tensor([1]),\n",
       " tensor([0]),\n",
       " tensor([1]),\n",
       " tensor([0]),\n",
       " tensor([0]),\n",
       " tensor([0]),\n",
       " tensor([1]),\n",
       " tensor([1]),\n",
       " tensor([1]),\n",
       " tensor([1]),\n",
       " tensor([1]),\n",
       " tensor([1]),\n",
       " tensor([0]),\n",
       " tensor([1]),\n",
       " tensor([1]),\n",
       " tensor([1]),\n",
       " tensor([1]),\n",
       " tensor([1]),\n",
       " tensor([1]),\n",
       " tensor([1]),\n",
       " tensor([1]),\n",
       " tensor([1]),\n",
       " tensor([1]),\n",
       " tensor([1]),\n",
       " tensor([1]),\n",
       " tensor([1]),\n",
       " tensor([1]),\n",
       " tensor([1]),\n",
       " tensor([1]),\n",
       " tensor([1]),\n",
       " tensor([1]),\n",
       " tensor([1]),\n",
       " tensor([1]),\n",
       " tensor([1]),\n",
       " tensor([1]),\n",
       " tensor([1]),\n",
       " tensor([1]),\n",
       " tensor([1]),\n",
       " tensor([1]),\n",
       " tensor([1]),\n",
       " tensor([0]),\n",
       " tensor([0]),\n",
       " tensor([0]),\n",
       " tensor([1]),\n",
       " tensor([0]),\n",
       " tensor([1]),\n",
       " tensor([1]),\n",
       " tensor([1]),\n",
       " tensor([1]),\n",
       " tensor([1]),\n",
       " tensor([1]),\n",
       " tensor([0]),\n",
       " tensor([0]),\n",
       " tensor([1]),\n",
       " tensor([1]),\n",
       " tensor([1]),\n",
       " tensor([1]),\n",
       " tensor([1]),\n",
       " tensor([1]),\n",
       " tensor([0]),\n",
       " tensor([0]),\n",
       " tensor([0]),\n",
       " tensor([0]),\n",
       " tensor([0]),\n",
       " tensor([0]),\n",
       " tensor([1]),\n",
       " tensor([1]),\n",
       " tensor([1]),\n",
       " tensor([1]),\n",
       " tensor([1]),\n",
       " tensor([1]),\n",
       " tensor([1]),\n",
       " tensor([1]),\n",
       " tensor([0]),\n",
       " tensor([1]),\n",
       " tensor([1]),\n",
       " tensor([1]),\n",
       " tensor([1]),\n",
       " tensor([1]),\n",
       " tensor([1]),\n",
       " tensor([1]),\n",
       " tensor([1]),\n",
       " tensor([1]),\n",
       " tensor([1]),\n",
       " tensor([1]),\n",
       " tensor([1]),\n",
       " tensor([0]),\n",
       " tensor([0]),\n",
       " tensor([1]),\n",
       " tensor([1]),\n",
       " tensor([1]),\n",
       " tensor([1]),\n",
       " tensor([1]),\n",
       " tensor([0]),\n",
       " tensor([0]),\n",
       " tensor([0]),\n",
       " tensor([0]),\n",
       " tensor([0]),\n",
       " tensor([0]),\n",
       " tensor([1]),\n",
       " tensor([0]),\n",
       " tensor([1]),\n",
       " tensor([1]),\n",
       " tensor([0]),\n",
       " tensor([1]),\n",
       " tensor([0]),\n",
       " tensor([0]),\n",
       " tensor([0]),\n",
       " tensor([0]),\n",
       " tensor([0]),\n",
       " tensor([0]),\n",
       " tensor([1]),\n",
       " tensor([0]),\n",
       " tensor([0]),\n",
       " tensor([1]),\n",
       " tensor([1]),\n",
       " tensor([0]),\n",
       " tensor([0]),\n",
       " tensor([0]),\n",
       " tensor([0]),\n",
       " tensor([0]),\n",
       " tensor([0]),\n",
       " tensor([1]),\n",
       " tensor([0]),\n",
       " tensor([1]),\n",
       " tensor([0]),\n",
       " tensor([0]),\n",
       " tensor([0]),\n",
       " tensor([0]),\n",
       " tensor([0]),\n",
       " tensor([0]),\n",
       " tensor([0]),\n",
       " tensor([0]),\n",
       " tensor([1]),\n",
       " tensor([0]),\n",
       " tensor([1]),\n",
       " tensor([1]),\n",
       " tensor([0]),\n",
       " tensor([0]),\n",
       " tensor([0]),\n",
       " tensor([0]),\n",
       " tensor([0])]"
      ]
     },
     "execution_count": 34,
     "metadata": {},
     "output_type": "execute_result"
    }
   ],
   "source": [
    "ab[0]['occlusion']"
   ]
  },
  {
   "cell_type": "code",
   "execution_count": 25,
   "metadata": {},
   "outputs": [
    {
     "data": {
      "text/plain": [
       "13"
      ]
     },
     "execution_count": 25,
     "metadata": {},
     "output_type": "execute_result"
    }
   ],
   "source": [
    "count"
   ]
  },
  {
   "cell_type": "code",
   "execution_count": 10,
   "metadata": {},
   "outputs": [
    {
     "data": {
      "text/plain": [
       "2"
      ]
     },
     "execution_count": 10,
     "metadata": {},
     "output_type": "execute_result"
    }
   ],
   "source": [
    "len(ab)"
   ]
  },
  {
   "cell_type": "code",
   "execution_count": null,
   "metadata": {},
   "outputs": [],
   "source": [
    "for ab in test:\n",
    "    break"
   ]
  },
  {
   "cell_type": "code",
   "execution_count": null,
   "metadata": {},
   "outputs": [],
   "source": [
    "import torch"
   ]
  },
  {
   "cell_type": "code",
   "execution_count": 1,
   "metadata": {},
   "outputs": [],
   "source": [
    "import scipy.io"
   ]
  },
  {
   "cell_type": "code",
   "execution_count": 3,
   "metadata": {},
   "outputs": [],
   "source": [
    "inputs = scipy.io.loadmat('dataset/Penn_Action/labels/0001.mat')"
   ]
  },
  {
   "cell_type": "code",
   "execution_count": 6,
   "metadata": {},
   "outputs": [
    {
     "data": {
      "text/plain": [
       "(151, 13)"
      ]
     },
     "execution_count": 6,
     "metadata": {},
     "output_type": "execute_result"
    }
   ],
   "source": [
    "inputs['x'].shape"
   ]
  },
  {
   "cell_type": "code",
   "execution_count": null,
   "metadata": {},
   "outputs": [],
   "source": []
  }
 ],
 "metadata": {
  "kernelspec": {
   "display_name": "Python 3",
   "language": "python",
   "name": "python3"
  },
  "language_info": {
   "codemirror_mode": {
    "name": "ipython",
    "version": 3
   },
   "file_extension": ".py",
   "mimetype": "text/x-python",
   "name": "python",
   "nbconvert_exporter": "python",
   "pygments_lexer": "ipython3",
   "version": "3.6.3"
  }
 },
 "nbformat": 4,
 "nbformat_minor": 2
}
